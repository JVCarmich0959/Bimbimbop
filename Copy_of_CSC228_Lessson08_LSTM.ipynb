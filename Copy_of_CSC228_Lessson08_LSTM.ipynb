{
  "nbformat": 4,
  "nbformat_minor": 0,
  "metadata": {
    "colab": {
      "provenance": [],
      "include_colab_link": true
    },
    "kernelspec": {
      "name": "python3",
      "display_name": "Python 3"
    },
    "language_info": {
      "name": "python"
    }
  },
  "cells": [
    {
      "cell_type": "markdown",
      "metadata": {
        "id": "view-in-github",
        "colab_type": "text"
      },
      "source": [
        "<a href=\"https://colab.research.google.com/github/JVCarmich0959/Bimbimbop/blob/main/Copy_of_CSC228_Lessson08_LSTM.ipynb\" target=\"_parent\"><img src=\"https://colab.research.google.com/assets/colab-badge.svg\" alt=\"Open In Colab\"/></a>"
      ]
    },
    {
      "cell_type": "markdown",
      "source": [
        "#Long Short-Term Memory Neural Networks (LSTM)\n",
        "\n",
        "LSTM, or Long Short-Term Memory, is a type of recurrent neural network (RNN) architecture that is commonly used in natural language processing (NLP). LSTM networks are designed to address the problem of vanishing gradients that can occur in traditional RNNs, which makes it difficult for the model to capture long-term dependencies in sequences.\n",
        "\n",
        "In NLP, LSTM networks can be used for a variety of tasks such as language modeling, machine translation, and sentiment analysis. They work by processing input sequences one element at a time and updating their internal state based on the current input and the previous state.\n",
        "\n",
        "The key feature of LSTM networks is the presence of memory cells, which are responsible for storing information over long periods of time. The network also has gating mechanisms that control the flow of information into and out of the memory cells. These gates, which include the input gate, forget gate, and output gate, allow the model to selectively update the memory and forget or retain information as needed."
      ],
      "metadata": {
        "id": "kXop1X6rHA_2"
      }
    },
    {
      "cell_type": "code",
      "execution_count": 1,
      "metadata": {
        "id": "56Q3DKaoKlGz"
      },
      "outputs": [],
      "source": [
        "# Custom LSTM\n",
        "# Owner: Jacquelyn Carmichael\n"
      ]
    },
    {
      "cell_type": "markdown",
      "source": [
        "# **Importing the Necessary Libraries**\n",
        "\n",
        "**numpy** is a library for numerical computations that is often used in machine learning.\n",
        "**keras.preprocessing** provides tools for preparing and processing input data.\n",
        "**keras.models** is used to define and build models for machine learning.\n",
        "**keras.layers** provides different types of layers that can be used to build a neural network model.\n",
        "**keras.utils** contains various utilities and helper functions for working with Keras models.\n",
        "In this code, the libraries are being imported and some specific modules from each library are being imported as well. These modules include the following types of layers:\n",
        "\n",
        "**Dense layers**: a standard fully connected layer in a \n",
        "neural network.\n",
        "\n",
        "**Dropout layers**: a regularization technique to prevent overfitting.\n",
        "\n",
        "**Embedding layers**: used for mapping words or tokens to numerical vectors, which can then be used as input to a neural network.\n",
        "\n",
        "**LSTM and SimpleRNN layers**: types of recurrent neural network layers that can process sequences of data (such as sentences in natural language).\n",
        "\n",
        "**Bidirectional layers**: allows information to flow through the network in both directions.\n",
        "**Conv2D and Conv1D layers:** used for convolutional neural networks, which are often used for image and audio processing."
      ],
      "metadata": {
        "id": "cjPiQkueHlvI"
      }
    },
    {
      "cell_type": "code",
      "source": [
        "import numpy as np\n",
        "import matplotlib.pyplot as plt\n",
        "from scipy.stats import norm\n",
        "from keras.preprocessing import sequence\n",
        "from keras.preprocessing.text import Tokenizer\n",
        "from keras.models import Sequential\n",
        "from keras.layers import Dense, Dropout, Embedding, LSTM\n",
        "from keras.datasets import imdb\n",
        "from keras.utils import pad_sequences\n",
        "from keras.utils import to_categorical\n",
        "from sklearn.utils import class_weight\n",
        "import pandas as pd\n",
        "import io\n",
        "import requests\n",
        "from collections import Counter\n"
      ],
      "metadata": {
        "id": "51kkXqLEKwpB"
      },
      "execution_count": 125,
      "outputs": []
    },
    {
      "cell_type": "markdown",
      "source": [
        "# Read in the data\n",
        "\n",
        "Here I am reading in my data from my github repo and loading\n",
        "it into a pandas dataframe.\n",
        "\n"
      ],
      "metadata": {
        "id": "0fJHNkTxLxOx"
      }
    },
    {
      "cell_type": "code",
      "source": [
        "url = \"https://raw.githubusercontent.com/JVCarmich0959/CSC228/main/WUG_Mall_improvement.csv\"\n",
        "s = requests.get(url).content\n",
        "df = pd.read_csv(io.StringIO(s.decode('utf-8')))"
      ],
      "metadata": {
        "id": "Ysw5lZIzK3fC"
      },
      "execution_count": 126,
      "outputs": []
    },
    {
      "cell_type": "markdown",
      "source": [
        "Preprocess the text data, which involves converting the words in each sentence into numerical vectors that can be fed into the LSTM model. This can be done using the 'Tokenizer' class from 'keras.preprocessing.text':"
      ],
      "metadata": {
        "id": "dSezysW1MUxj"
      }
    },
    {
      "cell_type": "code",
      "source": [
        "tokenizer = Tokenizer(num_words=5000)\n",
        "tokenizer.fit_on_texts(df['Sentence'])\n",
        "\n",
        "X = tokenizer.texts_to_sequences(df['Sentence'])\n",
        "X = pad_sequences(X, maxlen=100)\n",
        "y = df['Label']"
      ],
      "metadata": {
        "id": "qjKBbwsdMAGa"
      },
      "execution_count": 127,
      "outputs": []
    },
    {
      "cell_type": "markdown",
      "source": [
        "# Split the Data into Training and Testing Sets\n"
      ],
      "metadata": {
        "id": "pUeGbtZnPIef"
      }
    },
    {
      "cell_type": "code",
      "source": [
        "from sklearn.model_selection import train_test_split\n",
        "\n",
        "\n",
        "# Split the data into training and test sets\n",
        "X_train, X_test, y_train, y_test = train_test_split(X, y, test_size=0.2, random_state=42)"
      ],
      "metadata": {
        "id": "JE0DQm_XPNYl"
      },
      "execution_count": 128,
      "outputs": []
    },
    {
      "cell_type": "markdown",
      "source": [
        "# **Define the LSTM model architecture**\n",
        "\n",
        "Including the number and type of layers, activation functions, and other parameters:\n",
        "\n",
        "Here I found that less is more when it comes to model performance on small datasets, and it also took less time then pushing the data through many different pathways."
      ],
      "metadata": {
        "id": "JwgNwOozNG_B"
      }
    },
    {
      "cell_type": "code",
      "source": [
        "model = Sequential()\n",
        "model.add(Embedding(5000, 64, input_length=X.shape[1]))\n",
        "model.add(LSTM(units=64, dropout=0.2, recurrent_dropout=0.2))\n",
        "model.add(Dense(units=1, activation='sigmoid'))\n",
        "\n",
        "model.compile(loss='binary_crossentropy', optimizer='adam', metrics=['accuracy'])\n"
      ],
      "metadata": {
        "id": "0iOKBUK7NT6Q"
      },
      "execution_count": 129,
      "outputs": []
    },
    {
      "cell_type": "code",
      "source": [
        "X_train.shape"
      ],
      "metadata": {
        "id": "DHZWFC4vP3z0",
        "outputId": "80244673-21ab-406a-a502-4797bc610f35",
        "colab": {
          "base_uri": "https://localhost:8080/"
        }
      },
      "execution_count": 130,
      "outputs": [
        {
          "output_type": "execute_result",
          "data": {
            "text/plain": [
              "(225, 100)"
            ]
          },
          "metadata": {},
          "execution_count": 130
        }
      ]
    },
    {
      "cell_type": "markdown",
      "source": [
        "# Starting From Scratch\n"
      ],
      "metadata": {
        "id": "jI1VR66UP-IR"
      }
    },
    {
      "cell_type": "code",
      "source": [
        "from keras.backend import clear_session # clearing our session\n",
        "clear_session()"
      ],
      "metadata": {
        "id": "ecrWQmg_P9WR"
      },
      "execution_count": 131,
      "outputs": []
    },
    {
      "cell_type": "code",
      "source": [
        "history=model.fit(X_train, y_train,\n",
        "           batch_size=32,\n",
        "           epochs=10,\n",
        "           validation_data=[X_test, y_test])"
      ],
      "metadata": {
        "colab": {
          "base_uri": "https://localhost:8080/"
        },
        "id": "r_SrJigrM6sj",
        "outputId": "2118f62d-809b-46fa-9c1a-fdf61d6b2095"
      },
      "execution_count": 132,
      "outputs": [
        {
          "output_type": "stream",
          "name": "stdout",
          "text": [
            "Epoch 1/10\n",
            "8/8 [==============================] - 7s 304ms/step - loss: 0.6838 - accuracy: 0.6178 - val_loss: 0.7083 - val_accuracy: 0.4561\n",
            "Epoch 2/10\n",
            "8/8 [==============================] - 2s 281ms/step - loss: 0.6745 - accuracy: 0.6000 - val_loss: 0.7465 - val_accuracy: 0.4561\n",
            "Epoch 3/10\n",
            "8/8 [==============================] - 1s 178ms/step - loss: 0.6626 - accuracy: 0.6000 - val_loss: 0.7477 - val_accuracy: 0.4561\n",
            "Epoch 4/10\n",
            "8/8 [==============================] - 1s 177ms/step - loss: 0.6340 - accuracy: 0.6000 - val_loss: 0.7063 - val_accuracy: 0.4561\n",
            "Epoch 5/10\n",
            "8/8 [==============================] - 1s 176ms/step - loss: 0.6229 - accuracy: 0.6311 - val_loss: 0.7015 - val_accuracy: 0.4561\n",
            "Epoch 6/10\n",
            "8/8 [==============================] - 1s 175ms/step - loss: 0.5923 - accuracy: 0.6667 - val_loss: 0.7194 - val_accuracy: 0.4737\n",
            "Epoch 7/10\n",
            "8/8 [==============================] - 1s 177ms/step - loss: 0.5394 - accuracy: 0.6756 - val_loss: 0.7665 - val_accuracy: 0.4737\n",
            "Epoch 8/10\n",
            "8/8 [==============================] - 1s 174ms/step - loss: 0.4650 - accuracy: 0.7511 - val_loss: 0.6692 - val_accuracy: 0.5965\n",
            "Epoch 9/10\n",
            "8/8 [==============================] - 2s 195ms/step - loss: 0.4022 - accuracy: 0.8978 - val_loss: 0.6389 - val_accuracy: 0.7544\n",
            "Epoch 10/10\n",
            "8/8 [==============================] - 3s 323ms/step - loss: 0.3221 - accuracy: 0.9511 - val_loss: 0.6451 - val_accuracy: 0.7719\n"
          ]
        }
      ]
    },
    {
      "cell_type": "markdown",
      "source": [
        "Train the model using the preprocessed data and the specified architecture:"
      ],
      "metadata": {
        "id": "5l0BsDT-NdD1"
      }
    },
    {
      "cell_type": "code",
      "source": [
        "\n",
        "# Create a dataframe to store the history report\n",
        "history_df = pd.DataFrame(history.history)\n",
        "\n",
        "# Print the history dataframe\n",
        "print(history_df)"
      ],
      "metadata": {
        "id": "c63SAzenVN3F",
        "outputId": "7362b4ab-4f49-46ca-e05b-ddc6aac72709",
        "colab": {
          "base_uri": "https://localhost:8080/"
        }
      },
      "execution_count": 133,
      "outputs": [
        {
          "output_type": "stream",
          "name": "stdout",
          "text": [
            "       loss  accuracy  val_loss  val_accuracy\n",
            "0  0.683825  0.617778  0.708304      0.456140\n",
            "1  0.674528  0.600000  0.746457      0.456140\n",
            "2  0.662637  0.600000  0.747657      0.456140\n",
            "3  0.633995  0.600000  0.706349      0.456140\n",
            "4  0.622945  0.631111  0.701463      0.456140\n",
            "5  0.592345  0.666667  0.719405      0.473684\n",
            "6  0.539440  0.675556  0.766474      0.473684\n",
            "7  0.465014  0.751111  0.669217      0.596491\n",
            "8  0.402175  0.897778  0.638912      0.754386\n",
            "9  0.322108  0.951111  0.645092      0.771930\n"
          ]
        }
      ]
    },
    {
      "cell_type": "code",
      "source": [
        "# Create subplots for loss and accuracy\n",
        "fig, (ax1, ax2) = plt.subplots(1, 2, figsize=(12, 6))\n",
        "\n",
        "# Plot the training and validation loss\n",
        "history_df.plot(y=['loss', 'val_loss'], ax=ax1)\n",
        "ax1.set_title('Training and Validation Loss')\n",
        "ax1.set_xlabel('Epoch')\n",
        "ax1.set_ylabel('Loss')\n",
        "\n",
        "# Plot the training and validation accuracy\n",
        "history_df.plot(y=['accuracy', 'val_accuracy'], ax=ax2)\n",
        "ax2.set_title('Training and Validation Accuracy')\n",
        "ax2.set_xlabel('Epoch')\n",
        "ax2.set_ylabel('Accuracy')\n",
        "\n",
        "# Show the plot\n",
        "plt.show()"
      ],
      "metadata": {
        "colab": {
          "base_uri": "https://localhost:8080/",
          "height": 404
        },
        "id": "rMeGm5k_tIeU",
        "outputId": "cf5f2af0-bebb-4bec-b634-44c372c46fd4"
      },
      "execution_count": 134,
      "outputs": [
        {
          "output_type": "display_data",
          "data": {
            "text/plain": [
              "<Figure size 864x432 with 2 Axes>"
            ],
            "image/png": "[encoded data removed]"
          },
          "metadata": {
            "needs_background": "light"
          }
        }
      ]
    },
    {
      "cell_type": "markdown",
      "source": [
        "# Model Evaluation\n",
        "\n",
        "## Confusion Matrix\n",
        "\n",
        "Because this is considered supervised learning we can use a confusion matrix which  is often used to evaluate the performance of a binary classification models, like this LSTM model for sentiment analysis we are designing here. It  has the ability to  show us the number of true positives (correctly labled positive sentiments) ,true negatives (correctly labeld positive sentiments), false positives(incorrectly labled positive sentiments), and false negatives (incorrectly labled negative sentiments), which can  then be used to calculate metrics like precision, recall, and F1-score.\n",
        "\n",
        "\n"
      ],
      "metadata": {
        "id": "LLy2erA2Nzt7"
      }
    },
    {
      "cell_type": "code",
      "source": [
        "from sklearn.metrics import confusion_matrix, classification_report\n",
        "\n",
        "# Make predictions on the test data\n",
        "y_pred_prob = model.predict(X_test)\n",
        "y_pred = np.argmax(y_pred_prob, axis=1)\n",
        "\n",
        "# Create confusion matrix and classification report\n",
        "cm = confusion_matrix(y_test, y_pred)\n",
        "cr = classification_report(y_test, y_pred)\n",
        "\n",
        "print(\"Confusion matrix:\")\n",
        "print(cm)\n",
        "\n",
        "print(\"Classification report:\")\n",
        "print(cr)\n"
      ],
      "metadata": {
        "id": "xJYOtpCDOMeQ",
        "outputId": "dd937c98-9d43-4fc3-9b90-9a41872c6efb",
        "colab": {
          "base_uri": "https://localhost:8080/"
        }
      },
      "execution_count": 135,
      "outputs": [
        {
          "output_type": "stream",
          "name": "stdout",
          "text": [
            "2/2 [==============================] - 0s 27ms/step\n",
            "Confusion matrix:\n",
            "[[31  0]\n",
            " [26  0]]\n",
            "Classification report:\n",
            "              precision    recall  f1-score   support\n",
            "\n",
            "           0       0.54      1.00      0.70        31\n",
            "           1       0.00      0.00      0.00        26\n",
            "\n",
            "    accuracy                           0.54        57\n",
            "   macro avg       0.27      0.50      0.35        57\n",
            "weighted avg       0.30      0.54      0.38        57\n",
            "\n"
          ]
        },
        {
          "output_type": "stream",
          "name": "stderr",
          "text": [
            "/usr/local/lib/python3.8/dist-packages/sklearn/metrics/_classification.py:1318: UndefinedMetricWarning: Precision and F-score are ill-defined and being set to 0.0 in labels with no predicted samples. Use `zero_division` parameter to control this behavior.\n",
            "  _warn_prf(average, modifier, msg_start, len(result))\n",
            "/usr/local/lib/python3.8/dist-packages/sklearn/metrics/_classification.py:1318: UndefinedMetricWarning: Precision and F-score are ill-defined and being set to 0.0 in labels with no predicted samples. Use `zero_division` parameter to control this behavior.\n",
            "  _warn_prf(average, modifier, msg_start, len(result))\n",
            "/usr/local/lib/python3.8/dist-packages/sklearn/metrics/_classification.py:1318: UndefinedMetricWarning: Precision and F-score are ill-defined and being set to 0.0 in labels with no predicted samples. Use `zero_division` parameter to control this behavior.\n",
            "  _warn_prf(average, modifier, msg_start, len(result))\n"
          ]
        }
      ]
    },
    {
      "cell_type": "code",
      "source": [
        "import seaborn as sns\n",
        "\n",
        "# Create a heatmap for the confusion matrix\n",
        "sns.heatmap(cm, annot=True, cmap='Blues')\n",
        "\n",
        "# Add labels and a title to the plot\n",
        "plt.xlabel('Predicted labels')\n",
        "plt.ylabel('True labels')\n",
        "plt.title('Confusion Matrix')\n",
        "\n",
        "# Show the plot\n",
        "plt.show()\n"
      ],
      "metadata": {
        "colab": {
          "base_uri": "https://localhost:8080/",
          "height": 295
        },
        "id": "Aa8nVpfavfgA",
        "outputId": "57e9446e-0b7c-4558-fb48-96a8f425ba1b"
      },
      "execution_count": 136,
      "outputs": [
        {
          "output_type": "display_data",
          "data": {
            "text/plain": [
              "<Figure size 432x288 with 2 Axes>"
            ],
            "image/png": "[encoded data removed]"
          },
          "metadata": {
            "needs_background": "light"
          }
        }
      ]
    },
    {
      "cell_type": "markdown",
      "source": [
        "The classification report shows that the precision for the positive class is 0, meaning that out of all samples predicted to be positive, none were actually positive. The recall for the positive class is also 0, meaning that out of all actual positive samples, none were correctly predicted to be positive. The F1-score for the positive class is also 0, which is the harmonic mean of precision and recall. These results indicate that the model is not performing well in predicting the positive class.\n",
        "\n",
        "The overall accuracy of the model is 0.54, which is not very high, especially considering that the model predicted all samples to belong to one class. The macro average F1-score is 0.35, which takes into account the performance for both classes. The weighted average F1-score is 0.38, which takes into account the class imbalance.\n",
        "\n",
        "Overall, these results suggest that the model needs to be improved in order to correctly predict both classes, especially the positive class. Possible improvements include increasing the size of the dataset, adjusting the model architecture, applying regularization techniques to reduce overfitting, and fine-tuning the model hyperparameters."
      ],
      "metadata": {
        "id": "lduYMfPAv4f3"
      }
    },
    {
      "cell_type": "markdown",
      "source": [
        "# K-Fold Cross Validation\n",
        "\n",
        "Here I am using K-fold cross validation to evaluate the performance of my custom LSTM model. \n",
        "\n",
        "This method provides statistics that help us understand how our model may perform on unseen data, and aid in hyperparameter tuning.\n",
        "\n",
        "Using K-fold validation can provide a more reliable estimate of the model's performance on unseen data."
      ],
      "metadata": {
        "id": "OOmMv0ownKsL"
      }
    },
    {
      "cell_type": "code",
      "source": [
        "from sklearn.model_selection import KFold\n",
        "\n",
        "# Define number of folds for cross-validation\n",
        "num_folds = 5\n",
        "\n",
        "# Define the K-fold cross-validation iterator\n",
        "kf = KFold(n_splits=num_folds)\n",
        "\n",
        "# Perform K-fold cross-validation and compute accuracy for each fold\n",
        "fold_accuracies = []\n",
        "for train_indices, test_indices in kf.split(X):\n",
        "    X_train, X_test = X[train_indices], X[test_indices]\n",
        "    y_train, y_test = y[train_indices], y[test_indices]\n",
        "    model.fit(X_train, y_train, batch_size=32, epochs=10)\n",
        "    fold_loss, fold_accuracy = model.evaluate(X_test, y_test)\n",
        "    fold_accuracies.append(fold_accuracy)\n",
        "\n",
        "# Compute and print the mean accuracy and standard deviation across all folds\n",
        "mean_accuracy = np.mean(fold_accuracies)\n",
        "std_accuracy = np.std(fold_accuracies)\n",
        "print(\"Mean accuracy:\", mean_accuracy)\n",
        "print(\"Standard deviation:\", std_accuracy)\n"
      ],
      "metadata": {
        "id": "Omk7m8pvbSRQ",
        "outputId": "c6dba4f0-7a60-4f7c-b307-c0e2b288459a",
        "colab": {
          "base_uri": "https://localhost:8080/"
        }
      },
      "execution_count": 137,
      "outputs": [
        {
          "output_type": "stream",
          "name": "stdout",
          "text": [
            "Epoch 1/10\n",
            "8/8 [==============================] - 2s 203ms/step - loss: 0.3811 - accuracy: 0.8889\n",
            "Epoch 2/10\n",
            "8/8 [==============================] - 2s 198ms/step - loss: 0.3412 - accuracy: 0.8756\n",
            "Epoch 3/10\n",
            "8/8 [==============================] - 2s 194ms/step - loss: 0.3444 - accuracy: 0.8444\n",
            "Epoch 4/10\n",
            "8/8 [==============================] - 2s 197ms/step - loss: 0.2537 - accuracy: 0.9689\n",
            "Epoch 5/10\n",
            "8/8 [==============================] - 2s 220ms/step - loss: 0.2342 - accuracy: 0.9644\n",
            "Epoch 6/10\n",
            "8/8 [==============================] - 3s 331ms/step - loss: 0.1964 - accuracy: 0.9822\n",
            "Epoch 7/10\n",
            "8/8 [==============================] - 2s 198ms/step - loss: 0.1821 - accuracy: 0.9733\n",
            "Epoch 8/10\n",
            "8/8 [==============================] - 2s 193ms/step - loss: 0.1554 - accuracy: 0.9867\n",
            "Epoch 9/10\n",
            "8/8 [==============================] - 2s 191ms/step - loss: 0.1358 - accuracy: 1.0000\n",
            "Epoch 10/10\n",
            "8/8 [==============================] - 2s 192ms/step - loss: 0.1160 - accuracy: 1.0000\n",
            "2/2 [==============================] - 0s 37ms/step - loss: 0.1639 - accuracy: 0.9649\n",
            "Epoch 1/10\n",
            "8/8 [==============================] - 3s 331ms/step - loss: 0.1348 - accuracy: 0.9911\n",
            "Epoch 2/10\n",
            "8/8 [==============================] - 2s 188ms/step - loss: 0.1197 - accuracy: 0.9822\n",
            "Epoch 3/10\n",
            "8/8 [==============================] - 2s 198ms/step - loss: 0.0892 - accuracy: 0.9956\n",
            "Epoch 4/10\n",
            "8/8 [==============================] - 2s 193ms/step - loss: 0.0816 - accuracy: 1.0000\n",
            "Epoch 5/10\n",
            "8/8 [==============================] - 2s 193ms/step - loss: 0.0728 - accuracy: 1.0000\n",
            "Epoch 6/10\n",
            "8/8 [==============================] - 2s 191ms/step - loss: 0.0611 - accuracy: 1.0000\n",
            "Epoch 7/10\n",
            "8/8 [==============================] - 2s 195ms/step - loss: 0.0501 - accuracy: 1.0000\n",
            "Epoch 8/10\n",
            "8/8 [==============================] - 2s 276ms/step - loss: 0.0394 - accuracy: 1.0000\n",
            "Epoch 9/10\n",
            "8/8 [==============================] - 2s 272ms/step - loss: 0.0306 - accuracy: 1.0000\n",
            "Epoch 10/10\n",
            "8/8 [==============================] - 2s 191ms/step - loss: 0.0254 - accuracy: 1.0000\n",
            "2/2 [==============================] - 0s 33ms/step - loss: 0.0243 - accuracy: 1.0000\n",
            "Epoch 1/10\n",
            "8/8 [==============================] - 2s 195ms/step - loss: 0.0282 - accuracy: 0.9956\n",
            "Epoch 2/10\n",
            "8/8 [==============================] - 2s 199ms/step - loss: 0.0267 - accuracy: 1.0000\n",
            "Epoch 3/10\n",
            "8/8 [==============================] - 2s 202ms/step - loss: 0.0206 - accuracy: 1.0000\n",
            "Epoch 4/10\n",
            "8/8 [==============================] - 2s 310ms/step - loss: 0.0170 - accuracy: 1.0000\n",
            "Epoch 5/10\n",
            "8/8 [==============================] - 2s 250ms/step - loss: 0.0131 - accuracy: 1.0000\n",
            "Epoch 6/10\n",
            "8/8 [==============================] - 2s 193ms/step - loss: 0.0107 - accuracy: 1.0000\n",
            "Epoch 7/10\n",
            "8/8 [==============================] - 2s 201ms/step - loss: 0.0137 - accuracy: 1.0000\n",
            "Epoch 8/10\n",
            "8/8 [==============================] - 2s 206ms/step - loss: 0.0128 - accuracy: 1.0000\n",
            "Epoch 9/10\n",
            "8/8 [==============================] - 2s 202ms/step - loss: 0.0093 - accuracy: 1.0000\n",
            "Epoch 10/10\n",
            "8/8 [==============================] - 2s 201ms/step - loss: 0.0070 - accuracy: 1.0000\n",
            "2/2 [==============================] - 0s 29ms/step - loss: 8.0914e-04 - accuracy: 1.0000\n",
            "Epoch 1/10\n",
            "8/8 [==============================] - 2s 199ms/step - loss: 0.0049 - accuracy: 1.0000\n",
            "Epoch 2/10\n",
            "8/8 [==============================] - 2s 200ms/step - loss: 0.0038 - accuracy: 1.0000\n",
            "Epoch 3/10\n",
            "8/8 [==============================] - 2s 196ms/step - loss: 0.0033 - accuracy: 1.0000\n",
            "Epoch 4/10\n",
            "8/8 [==============================] - 2s 198ms/step - loss: 0.0023 - accuracy: 1.0000\n",
            "Epoch 5/10\n",
            "8/8 [==============================] - 2s 198ms/step - loss: 0.0030 - accuracy: 1.0000\n",
            "Epoch 6/10\n",
            "8/8 [==============================] - 2s 219ms/step - loss: 0.0023 - accuracy: 1.0000\n",
            "Epoch 7/10\n",
            "8/8 [==============================] - 3s 330ms/step - loss: 0.0017 - accuracy: 1.0000\n",
            "Epoch 8/10\n",
            "8/8 [==============================] - 2s 199ms/step - loss: 0.0017 - accuracy: 1.0000\n",
            "Epoch 9/10\n",
            "8/8 [==============================] - 2s 197ms/step - loss: 0.0020 - accuracy: 1.0000\n",
            "Epoch 10/10\n",
            "8/8 [==============================] - 2s 197ms/step - loss: 0.0015 - accuracy: 1.0000\n",
            "2/2 [==============================] - 0s 29ms/step - loss: 0.0057 - accuracy: 1.0000\n",
            "Epoch 1/10\n",
            "8/8 [==============================] - 2s 200ms/step - loss: 0.0020 - accuracy: 1.0000\n",
            "Epoch 2/10\n",
            "8/8 [==============================] - 2s 321ms/step - loss: 0.0020 - accuracy: 1.0000\n",
            "Epoch 3/10\n",
            "8/8 [==============================] - 2s 218ms/step - loss: 0.0017 - accuracy: 1.0000\n",
            "Epoch 4/10\n",
            "8/8 [==============================] - 2s 196ms/step - loss: 0.0013 - accuracy: 1.0000\n",
            "Epoch 5/10\n",
            "8/8 [==============================] - 2s 196ms/step - loss: 0.0015 - accuracy: 1.0000\n",
            "Epoch 6/10\n",
            "8/8 [==============================] - 2s 199ms/step - loss: 0.0011 - accuracy: 1.0000\n",
            "Epoch 7/10\n",
            "8/8 [==============================] - 2s 193ms/step - loss: 0.0017 - accuracy: 1.0000\n",
            "Epoch 8/10\n",
            "8/8 [==============================] - 2s 200ms/step - loss: 0.0015 - accuracy: 1.0000\n",
            "Epoch 9/10\n",
            "8/8 [==============================] - 2s 260ms/step - loss: 0.0011 - accuracy: 1.0000\n",
            "Epoch 10/10\n",
            "8/8 [==============================] - 2s 285ms/step - loss: 8.7954e-04 - accuracy: 1.0000\n",
            "2/2 [==============================] - 0s 30ms/step - loss: 0.0074 - accuracy: 1.0000\n",
            "Mean accuracy: 0.9929824590682983\n",
            "Standard deviation: 0.01403508186340332\n"
          ]
        }
      ]
    },
    {
      "cell_type": "markdown",
      "source": [
        "# Performance on Unseen Data\n",
        "\n",
        "Based on the training history, it seems that the performance of the LSTM model is very good, achieving high accuracy and low loss values:\n",
        "\n",
        "  The training process shows a **steady improvement in the accuracy metric**, with the model achieving 100% accuracy by the end of the training process. However, it's important to note that this high accuracy on the training set does not necessarily translate to good performance on unseen data.\n",
        "\n",
        "  To evaluate the model's performance on unseen data, the test set is used. In the provided output, we can see that the model achieved high accuracy on the test set as well, with** a mean accuracy of 0.992** and a **standard deviation of 0.014**.\n",
        "\n",
        "  To improve the model's performance, we can try adjusting hyperparameters such as **the number of units in the LSTM layer, the dropout rate, or the learning rate of the optimizer.** We can also try using a different architecture altogether, such as a different type of recurrent neural network or a convolutional neural network. \n",
        "\n",
        "  Additionally, we can try using techniques such as early stopping or model ensembling to further improve the model's performance."
      ],
      "metadata": {
        "id": "neAYuk0Zbz2K"
      }
    },
    {
      "cell_type": "markdown",
      "source": [
        "# Let's see our model in action.\n",
        "\n",
        "Of course these numbers are a cool and reliable way to sell the idea of a well performing models to  potential clients, but what people really want to see is the model in action to here I am looking at how well my model performs with a function."
      ],
      "metadata": {
        "id": "lMpYO52xzBzp"
      }
    },
    {
      "cell_type": "code",
      "source": [
        "def evaluate_utterance(utterance, model):\n",
        "    # Tokenize the utterance\n",
        "    tokens = tokenizer.texts_to_sequences([utterance])\n",
        "    tokens = pad_sequences(tokens, maxlen=100)\n",
        "\n",
        "    # Make a prediction using the model\n",
        "    prediction = model.predict(tokens)[0][0]\n",
        "\n",
        "    # Return the predicted label (0 or 1)\n",
        "    return int(round(prediction))\n"
      ],
      "metadata": {
        "id": "E0w0Z5tfAkQD"
      },
      "execution_count": 138,
      "outputs": []
    },
    {
      "cell_type": "code",
      "source": [
        "utterance = \"This product is amazing!\"\n",
        "predicted_label = evaluate_utterance(utterance, model)\n",
        "print(\"Predicted label:\", predicted_label)"
      ],
      "metadata": {
        "colab": {
          "base_uri": "https://localhost:8080/"
        },
        "id": "Hp13N6_DAmdQ",
        "outputId": "8d8c979c-d16c-4b5f-e207-71e68cb524e1"
      },
      "execution_count": 139,
      "outputs": [
        {
          "output_type": "stream",
          "name": "stdout",
          "text": [
            "1/1 [==============================] - 0s 64ms/step\n",
            "Predicted label: 1\n"
          ]
        }
      ]
    },
    {
      "cell_type": "code",
      "source": [
        "utterance = \"I couldn't find anything in my size.\"\n",
        "predicted_label = evaluate_utterance(utterance, model)\n",
        "print(\"Predicted label:\", predicted_label)"
      ],
      "metadata": {
        "colab": {
          "base_uri": "https://localhost:8080/"
        },
        "id": "TdWsVh7UAyYr",
        "outputId": "a4f947d1-696a-44c1-a3b5-55a4c138f5cf"
      },
      "execution_count": 140,
      "outputs": [
        {
          "output_type": "stream",
          "name": "stdout",
          "text": [
            "1/1 [==============================] - 0s 45ms/step\n",
            "Predicted label: 1\n"
          ]
        }
      ]
    },
    {
      "cell_type": "code",
      "source": [
        "utterance = \"The mall is very boring\"\n",
        "predicted_label = evaluate_utterance(utterance, model)\n",
        "print(\"Predicted label:\", predicted_label)\n"
      ],
      "metadata": {
        "colab": {
          "base_uri": "https://localhost:8080/"
        },
        "id": "4KGe3N_eA8IK",
        "outputId": "d9b5ae3a-5051-47a4-8105-c304f6c12d2c"
      },
      "execution_count": 141,
      "outputs": [
        {
          "output_type": "stream",
          "name": "stdout",
          "text": [
            "1/1 [==============================] - 0s 52ms/step\n",
            "Predicted label: 0\n"
          ]
        }
      ]
    },
    {
      "cell_type": "code",
      "source": [
        "utterance = \"The mall smells awful.\"\n",
        "predicted_label = evaluate_utterance(utterance, model)\n",
        "print(\"Predicted label:\", predicted_label)\n"
      ],
      "metadata": {
        "colab": {
          "base_uri": "https://localhost:8080/"
        },
        "id": "Etyh3qEVBGic",
        "outputId": "e24eddb8-084b-4f24-d715-d484a5e50da1"
      },
      "execution_count": 142,
      "outputs": [
        {
          "output_type": "stream",
          "name": "stdout",
          "text": [
            "1/1 [==============================] - 0s 60ms/step\n",
            "Predicted label: 0\n"
          ]
        }
      ]
    },
    {
      "cell_type": "code",
      "source": [
        "utterance = \"There were no human cashiers available for check out.\"\n",
        "predicted_label = evaluate_utterance(utterance, model)\n",
        "print(\"Predicted label:\", predicted_label)\n"
      ],
      "metadata": {
        "colab": {
          "base_uri": "https://localhost:8080/"
        },
        "id": "F8Na1RviBYaJ",
        "outputId": "357a904a-fdd0-42f8-f2fe-554634434fa9"
      },
      "execution_count": 143,
      "outputs": [
        {
          "output_type": "stream",
          "name": "stdout",
          "text": [
            "1/1 [==============================] - 0s 56ms/step\n",
            "Predicted label: 1\n"
          ]
        }
      ]
    },
    {
      "cell_type": "code",
      "source": [
        "utterance = \"Very poor customer service, I would never return.\"\n",
        "predicted_label = evaluate_utterance(utterance, model)\n",
        "print(\"Predicted label:\", predicted_label)"
      ],
      "metadata": {
        "colab": {
          "base_uri": "https://localhost:8080/"
        },
        "id": "IOSkIJP9Bmbg",
        "outputId": "729f62b8-3026-456c-a0d9-baeb2e3b3929"
      },
      "execution_count": 144,
      "outputs": [
        {
          "output_type": "stream",
          "name": "stdout",
          "text": [
            "1/1 [==============================] - 0s 50ms/step\n",
            "Predicted label: 0\n"
          ]
        }
      ]
    },
    {
      "cell_type": "code",
      "source": [
        "utterance = \"All of the employees were hiding in the bathroom I couldn't find anyone to help me price my item.\"\n",
        "predicted_label = evaluate_utterance(utterance, model)\n",
        "print(\"Predicted label:\", predicted_label)"
      ],
      "metadata": {
        "colab": {
          "base_uri": "https://localhost:8080/"
        },
        "id": "2vukkCWjB3tF",
        "outputId": "61a87a91-b19b-4f50-d551-d8fa947c748e"
      },
      "execution_count": 145,
      "outputs": [
        {
          "output_type": "stream",
          "name": "stdout",
          "text": [
            "1/1 [==============================] - 0s 46ms/step\n",
            "Predicted label: 1\n"
          ]
        }
      ]
    },
    {
      "cell_type": "code",
      "source": [
        "uttterance = \"We need to tear that old mall down it is such an eye-sore.\"\n",
        "predicted_label = evaluate_utterance(utterance, model)\n",
        "print(\"Predicted label:\", predicted_label)"
      ],
      "metadata": {
        "colab": {
          "base_uri": "https://localhost:8080/"
        },
        "id": "WQHmSPmmCEaU",
        "outputId": "39697f0a-6191-4cf7-d8a9-f507d78b6ee9"
      },
      "execution_count": 146,
      "outputs": [
        {
          "output_type": "stream",
          "name": "stdout",
          "text": [
            "1/1 [==============================] - 0s 47ms/step\n",
            "Predicted label: 1\n"
          ]
        }
      ]
    },
    {
      "cell_type": "code",
      "source": [
        "utterance = \"The lady in Belks wouldn't stop spraying perfume.\"\n",
        "predicted_label = evaluate_utterance(utterance, model)\n",
        "print(\"Predicted label:\", predicted_label)"
      ],
      "metadata": {
        "colab": {
          "base_uri": "https://localhost:8080/"
        },
        "id": "Wn_IUjlsCNZW",
        "outputId": "bbbf8d46-4aed-4cbf-d6a3-cf95d5fd2d39"
      },
      "execution_count": 147,
      "outputs": [
        {
          "output_type": "stream",
          "name": "stdout",
          "text": [
            "1/1 [==============================] - 0s 45ms/step\n",
            "Predicted label: 1\n"
          ]
        }
      ]
    },
    {
      "cell_type": "markdown",
      "source": [
        "# Conclusion\n",
        "\n",
        "  This model needs better data! I'm learning that a model is only as good as the data you feed it.I think expanding data would allow this model to  understand the patterns in data. I think one of the things I am learning about this class experimenting with different data sets is that clean data is rare treat.\n",
        "\n",
        "  Data standardization is an industry hurdle, and having models with selective memory is one way to beef up your architecture, however if standardization within domains are inconcsistent, your models predictions will also be inconsistent.\n",
        "\n",
        "  I would like to expand my dataset with more utterances from similar domains to create more comprehensive models. "
      ],
      "metadata": {
        "id": "68buOdhfQiyv"
      }
    }
  ]
}